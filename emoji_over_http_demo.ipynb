{
 "cells": [
  {
   "cell_type": "code",
   "execution_count": 2,
   "metadata": {},
   "outputs": [],
   "source": [
    "import requests\n",
    "from emo_utils import *\n",
    "import emoji\n"
   ]
  },
  {
   "cell_type": "code",
   "execution_count": 3,
   "metadata": {},
   "outputs": [
    {
     "name": "stdout",
     "output_type": "stream",
     "text": [
      "http://localhost:31483/predict\n"
     ]
    }
   ],
   "source": [
    "import subprocess\n",
    "NODE_PORT = subprocess.run(\"kubectl get services/emojifier -o go-template='{{(index .spec.ports 0).nodePort}}'\",shell=True,stdout=subprocess.PIPE)\n",
    "URL=\"http://localhost:%d/predict\"%(int(NODE_PORT.stdout))\n",
    "print(URL)"
   ]
  },
  {
   "cell_type": "code",
   "execution_count": 4,
   "metadata": {},
   "outputs": [
    {
     "name": "stdout",
     "output_type": "stream",
     "text": [
      "NAME        READY   UP-TO-DATE   AVAILABLE   AGE\r\n",
      "emojifier   1/1     1            1           20h\r\n"
     ]
    }
   ],
   "source": [
    "!kubectl get deployments"
   ]
  },
  {
   "cell_type": "code",
   "execution_count": 5,
   "metadata": {},
   "outputs": [],
   "source": [
    "#using multiprocessing so that we can make the http requests in parallel\n",
    "#\n",
    "from multiprocessing import Pool\n",
    "import time\n",
    "\n",
    "\n",
    "\n",
    "\n"
   ]
  },
  {
   "cell_type": "code",
   "execution_count": 6,
   "metadata": {},
   "outputs": [],
   "source": [
    "def predict_emoji(texts) :\n",
    "    for text in texts:\n",
    "        params = {'text' : text}\n",
    "        r = requests.get(url= URL, params = params)\n",
    "        #print(text,label_to_emoji(r.json()))"
   ]
  },
  {
   "cell_type": "code",
   "execution_count": 7,
   "metadata": {},
   "outputs": [],
   "source": [
    "X_test, _ = read_csv('data/train_emoji.csv')\n",
    "REPEAT_FACTOR = 40\n",
    "# create a big dataset by repeating X_test REPEAT_FACTOR times\n",
    "\n",
    "texts_nested = [X_test]*REPEAT_FACTOR\n",
    "#flatten nested array\n",
    "texts = np.array([x for l in texts_nested for x in l])\n"
   ]
  },
  {
   "cell_type": "code",
   "execution_count": 8,
   "metadata": {},
   "outputs": [],
   "source": [
    "#need to have enough processes to overwhelm a single pod\n",
    "NUM_PROCESSES = 8\n",
    "p = Pool(NUM_PROCESSES)\n",
    "\n",
    "def timed_sequence(p) :\n",
    "    start_time = time.time()\n",
    "    p.map(predict_emoji, np.split(texts,NUM_PROCESSES))\n",
    "    end_time = time.time()\n",
    "    print(end_time-start_time)\n"
   ]
  },
  {
   "cell_type": "code",
   "execution_count": 9,
   "metadata": {},
   "outputs": [
    {
     "name": "stdout",
     "output_type": "stream",
     "text": [
      "44.567094564437866\n"
     ]
    }
   ],
   "source": [
    "timed_sequence(p)"
   ]
  },
  {
   "cell_type": "code",
   "execution_count": 10,
   "metadata": {},
   "outputs": [
    {
     "name": "stdout",
     "output_type": "stream",
     "text": [
      "deployment.extensions/emojifier scaled\r\n"
     ]
    }
   ],
   "source": [
    "!kubectl scale deployments/emojifier --replicas=2\n",
    "#Note : wait about 3 minutes for the python models to load models\n",
    "# and be ready to process http requests\n",
    "# We can do top on the worker nodes to see when python activity subsides"
   ]
  },
  {
   "cell_type": "code",
   "execution_count": 11,
   "metadata": {},
   "outputs": [
    {
     "name": "stdout",
     "output_type": "stream",
     "text": [
      "NAME        READY   UP-TO-DATE   AVAILABLE   AGE\r\n",
      "emojifier   2/2     2            2           20h\r\n"
     ]
    }
   ],
   "source": [
    "!kubectl get deployments"
   ]
  },
  {
   "cell_type": "code",
   "execution_count": 12,
   "metadata": {},
   "outputs": [
    {
     "name": "stdout",
     "output_type": "stream",
     "text": [
      "31.08963179588318\n"
     ]
    }
   ],
   "source": [
    "timed_sequence(p)"
   ]
  },
  {
   "cell_type": "code",
   "execution_count": 13,
   "metadata": {},
   "outputs": [
    {
     "name": "stdout",
     "output_type": "stream",
     "text": [
      "deployment.extensions/emojifier scaled\r\n"
     ]
    }
   ],
   "source": [
    "!kubectl scale deployments/emojifier --replicas=8\n",
    "#Note : wait about 3 minutes for the python models to load models\n",
    "# and be ready to process http requests\n",
    "# We can do top on the worker nodes to see when python activity subsides"
   ]
  },
  {
   "cell_type": "code",
   "execution_count": 14,
   "metadata": {},
   "outputs": [
    {
     "name": "stdout",
     "output_type": "stream",
     "text": [
      "NAME        READY   UP-TO-DATE   AVAILABLE   AGE\r\n",
      "emojifier   8/8     8            8           20h\r\n"
     ]
    }
   ],
   "source": [
    "!kubectl get deployments"
   ]
  },
  {
   "cell_type": "code",
   "execution_count": 15,
   "metadata": {},
   "outputs": [
    {
     "name": "stdout",
     "output_type": "stream",
     "text": [
      "29.249848127365112\n"
     ]
    }
   ],
   "source": [
    "timed_sequence(p)"
   ]
  },
  {
   "cell_type": "code",
   "execution_count": 1,
   "metadata": {},
   "outputs": [
    {
     "name": "stdout",
     "output_type": "stream",
     "text": [
      "deployment.extensions/emojifier scaled\r\n"
     ]
    }
   ],
   "source": [
    "!kubectl scale deployments/emojifier --replicas=1"
   ]
  }
 ],
 "metadata": {
  "kernelspec": {
   "display_name": "Python 3",
   "language": "python",
   "name": "python3"
  },
  "language_info": {
   "codemirror_mode": {
    "name": "ipython",
    "version": 3
   },
   "file_extension": ".py",
   "mimetype": "text/x-python",
   "name": "python",
   "nbconvert_exporter": "python",
   "pygments_lexer": "ipython3",
   "version": "3.5.4"
  }
 },
 "nbformat": 4,
 "nbformat_minor": 2
}
