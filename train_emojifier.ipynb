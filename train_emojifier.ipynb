{
 "cells": [
  {
   "cell_type": "code",
   "execution_count": 1,
   "metadata": {},
   "outputs": [],
   "source": [
    "import numpy as np\n",
    "from emo_utils import *\n",
    "import emoji\n"
   ]
  },
  {
   "cell_type": "code",
   "execution_count": 2,
   "metadata": {},
   "outputs": [],
   "source": [
    "X_train, Y_train = read_csv('data/train_emoji.csv')\n",
    "X_test, Y_test = read_csv('data/test_emoji.csv')\n",
    "maxLen = len(max(X_train, key=len).split())"
   ]
  },
  {
   "cell_type": "code",
   "execution_count": 19,
   "metadata": {},
   "outputs": [
    {
     "data": {
      "text/plain": [
       "10"
      ]
     },
     "execution_count": 19,
     "metadata": {},
     "output_type": "execute_result"
    }
   ],
   "source": [
    "maxLen"
   ]
  },
  {
   "cell_type": "code",
   "execution_count": 3,
   "metadata": {},
   "outputs": [
    {
     "data": {
      "text/plain": [
       "{0, 1, 2, 3, 4}"
      ]
     },
     "execution_count": 3,
     "metadata": {},
     "output_type": "execute_result"
    }
   ],
   "source": [
    "set(Y_train)"
   ]
  },
  {
   "cell_type": "code",
   "execution_count": 4,
   "metadata": {},
   "outputs": [],
   "source": [
    "Y_oh_train = convert_to_one_hot(Y_train, C = 5)\n",
    "Y_oh_test = convert_to_one_hot(Y_test, C = 5)"
   ]
  },
  {
   "cell_type": "code",
   "execution_count": 5,
   "metadata": {},
   "outputs": [],
   "source": [
    "#read word vector embeddings\n",
    "word_to_index, index_to_word, word_to_vec_map = read_glove_vecs('data/glove.6B.50d.txt')"
   ]
  },
  {
   "cell_type": "code",
   "execution_count": 6,
   "metadata": {},
   "outputs": [
    {
     "name": "stderr",
     "output_type": "stream",
     "text": [
      "Using TensorFlow backend.\n"
     ]
    }
   ],
   "source": [
    "np.random.seed(0)\n",
    "from keras.models import Model\n",
    "from keras.layers import Dense, Input, Dropout, LSTM, Activation\n",
    "from keras.layers.embeddings import Embedding\n",
    "from keras.preprocessing import sequence\n",
    "from keras.initializers import glorot_uniform\n",
    "np.random.seed(1)"
   ]
  },
  {
   "cell_type": "code",
   "execution_count": 7,
   "metadata": {},
   "outputs": [],
   "source": [
    "def sentences_to_indices(X, word_to_index, max_len):\n",
    "    \"\"\"\n",
    "    Converts an array of sentences (strings) into an array of indices corresponding to words in the sentences.\n",
    "    The output shape should be such that it can be given to `Embedding()` (described in Figure 4). \n",
    "    \n",
    "    Arguments:\n",
    "    X -- array of sentences (strings), of shape (m, 1)\n",
    "    word_to_index -- a dictionary containing the each word mapped to its index\n",
    "    max_len -- maximum number of words in a sentence. You can assume every sentence in X is no longer than this. \n",
    "    \n",
    "    Returns:\n",
    "    X_indices -- array of indices corresponding to words in the sentences from X, of shape (m, max_len)\n",
    "    \"\"\"\n",
    "    \n",
    "    m = X.shape[0]                                   # number of training examples\n",
    "    \n",
    "    ### START CODE HERE ###\n",
    "    # Initialize X_indices as a numpy matrix of zeros and the correct shape (≈ 1 line)\n",
    "    X_indices = np.zeros((m,max_len))\n",
    "    \n",
    "    for i in range(m):                               # loop over training examples\n",
    "        \n",
    "        # Convert the ith training sentence in lower case and split is into words. You should get a list of words.\n",
    "        sentence_words = X[i].lower().split()\n",
    "        \n",
    "        # Initialize j to 0\n",
    "        j = 0\n",
    "        \n",
    "        # Loop over the words of sentence_words\n",
    "        for w in sentence_words:\n",
    "            # Set the (i,j)th entry of X_indices to the index of the correct word.\n",
    "            X_indices[i, j] = word_to_index[w]\n",
    "            # Increment j to j + 1\n",
    "            j = j + 1\n",
    "            \n",
    "    ### END CODE HERE ###\n",
    "    \n",
    "    return X_indices"
   ]
  },
  {
   "cell_type": "code",
   "execution_count": 8,
   "metadata": {},
   "outputs": [],
   "source": [
    "def pretrained_embedding_layer(word_to_vec_map, word_to_index):\n",
    "    \"\"\"\n",
    "    Creates a Keras Embedding() layer and loads in pre-trained GloVe 50-dimensional vectors.\n",
    "    \n",
    "    Arguments:\n",
    "    word_to_vec_map -- dictionary mapping words to their GloVe vector representation.\n",
    "    word_to_index -- dictionary mapping from words to their indices in the vocabulary (400,001 words)\n",
    "\n",
    "    Returns:\n",
    "    embedding_layer -- pretrained layer Keras instance\n",
    "    \"\"\"\n",
    "    \n",
    "    vocab_len = len(word_to_index) + 1                  # adding 1 to fit Keras embedding (requirement)\n",
    "    emb_dim = word_to_vec_map[\"cucumber\"].shape[0]      # define dimensionality of your GloVe word vectors (= 50)\n",
    "    \n",
    "    ### START CODE HERE ###\n",
    "    # Initialize the embedding matrix as a numpy array of zeros of shape (vocab_len, dimensions of word vectors = emb_dim)\n",
    "    emb_matrix = np.zeros((vocab_len,emb_dim))\n",
    "    \n",
    "    # Set each row \"index\" of the embedding matrix to be the word vector representation of the \"index\"th word of the vocabulary\n",
    "    for word, index in word_to_index.items():\n",
    "        emb_matrix[index, :] = word_to_vec_map[word]\n",
    "\n",
    "    # Define Keras embedding layer with the correct output/input sizes, make it trainable. Use Embedding(...). Make sure to set trainable=False. \n",
    "    embedding_layer = Embedding(vocab_len,emb_dim,trainable=False)\n",
    "    ### END CODE HERE ###\n",
    "\n",
    "    # Build the embedding layer, it is required before setting the weights of the embedding layer. Do not modify the \"None\".\n",
    "    embedding_layer.build((None,))\n",
    "    \n",
    "    # Set the weights of the embedding layer to the embedding matrix. Your layer is now pretrained.\n",
    "    embedding_layer.set_weights([emb_matrix])\n",
    "    \n",
    "    return embedding_layer"
   ]
  },
  {
   "cell_type": "code",
   "execution_count": 9,
   "metadata": {},
   "outputs": [],
   "source": [
    "import matplotlib.pyplot as plt\n",
    "%matplotlib inline"
   ]
  },
  {
   "cell_type": "markdown",
   "metadata": {},
   "source": [
    "## 2.3 Building the Emojifier-V2\n",
    "\n",
    "Lets now build the Emojifier-V2 model. You will do so using the embedding layer you have built, and feed its output to an LSTM network. \n",
    "\n",
    "<img src=\"images/emojifier-v2.png\" style=\"width:700px;height:400px;\"> <br>\n",
    "<caption><center> **Figure 3**: Emojifier-v2. A 2-layer LSTM sequence classifier. </center></caption>\n",
    "\n",
    "\n",
    "**Exercise:** Implement `Emojify_V2()`, which builds a Keras graph of the architecture shown in Figure 3. The model takes as input an array of sentences of shape (`m`, `max_len`, ) defined by `input_shape`. It should output a softmax probability vector of shape (`m`, `C = 5`). You may need `Input(shape = ..., dtype = '...')`, [LSTM()](https://keras.io/layers/recurrent/#lstm), [Dropout()](https://keras.io/layers/core/#dropout), [Dense()](https://keras.io/layers/core/#dense), and [Activation()](https://keras.io/activations/)."
   ]
  },
  {
   "cell_type": "code",
   "execution_count": 10,
   "metadata": {},
   "outputs": [],
   "source": [
    "def Emojify_V2(input_shape, word_to_vec_map, word_to_index):\n",
    "    \"\"\"\n",
    "    Function creating the Emojify-v2 model's graph.\n",
    "    \n",
    "    Arguments:\n",
    "    input_shape -- shape of the input, usually (max_len,)\n",
    "    word_to_vec_map -- dictionary mapping every word in a vocabulary into its 50-dimensional vector representation\n",
    "    word_to_index -- dictionary mapping from words to their indices in the vocabulary (400,001 words)\n",
    "\n",
    "    Returns:\n",
    "    model -- a model instance in Keras\n",
    "    \"\"\"\n",
    "    \n",
    "    ### START CODE HERE ###\n",
    "    # Define sentence_indices as the input of the graph, it should be of shape input_shape and dtype 'int32' (as it contains indices).\n",
    "    sentence_indices = Input(shape=input_shape,dtype='int32')\n",
    "    \n",
    "    # Create the embedding layer pretrained with GloVe Vectors (≈1 line)\n",
    "    embedding_layer = pretrained_embedding_layer(word_to_vec_map, word_to_index)\n",
    "    \n",
    "    # Propagate sentence_indices through your embedding layer, you get back the embeddings\n",
    "    embeddings = embedding_layer(sentence_indices)   \n",
    "    \n",
    "    # Propagate the embeddings through an LSTM layer with 128-dimensional hidden state\n",
    "    # Be careful, the returned output should be a batch of sequences.\n",
    "    X = LSTM(units=128,return_sequences=True)(embeddings)\n",
    "    # Add dropout with a probability of 0.5\n",
    "    X = Dropout(0.5)(X)\n",
    "    # Propagate X trough another LSTM layer with 128-dimensional hidden state\n",
    "    # Be careful, the returned output should be a single hidden state, not a batch of sequences.\n",
    "    X = LSTM(units=128)(X)\n",
    "    # Add dropout with a probability of 0.5\n",
    "    X = Dropout(0.5)(X)\n",
    "    # Propagate X through a Dense layer with softmax activation to get back a batch of 5-dimensional vectors.\n",
    "    X = Dense(units=5, activation='softmax')(X)\n",
    "    # Add a softmax activation\n",
    "    X = Activation('softmax')(X)\n",
    "    \n",
    "    # Create Model instance which converts sentence_indices into X.\n",
    "    model = Model(inputs=sentence_indices, outputs=X)\n",
    "    \n",
    "    ### END CODE HERE ###\n",
    "    \n",
    "    return model"
   ]
  },
  {
   "cell_type": "code",
   "execution_count": 11,
   "metadata": {},
   "outputs": [
    {
     "name": "stdout",
     "output_type": "stream",
     "text": [
      "WARNING:tensorflow:From /home/mapr/.local/lib/python3.5/site-packages/tensorflow/python/framework/op_def_library.py:263: colocate_with (from tensorflow.python.framework.ops) is deprecated and will be removed in a future version.\n",
      "Instructions for updating:\n",
      "Colocations handled automatically by placer.\n",
      "WARNING:tensorflow:From /home/mapr/.local/lib/python3.5/site-packages/keras/backend/tensorflow_backend.py:3445: calling dropout (from tensorflow.python.ops.nn_ops) with keep_prob is deprecated and will be removed in a future version.\n",
      "Instructions for updating:\n",
      "Please use `rate` instead of `keep_prob`. Rate should be set to `rate = 1 - keep_prob`.\n",
      "_________________________________________________________________\n",
      "Layer (type)                 Output Shape              Param #   \n",
      "=================================================================\n",
      "input_1 (InputLayer)         (None, 10)                0         \n",
      "_________________________________________________________________\n",
      "embedding_1 (Embedding)      (None, 10, 50)            20000050  \n",
      "_________________________________________________________________\n",
      "lstm_1 (LSTM)                (None, 10, 128)           91648     \n",
      "_________________________________________________________________\n",
      "dropout_1 (Dropout)          (None, 10, 128)           0         \n",
      "_________________________________________________________________\n",
      "lstm_2 (LSTM)                (None, 128)               131584    \n",
      "_________________________________________________________________\n",
      "dropout_2 (Dropout)          (None, 128)               0         \n",
      "_________________________________________________________________\n",
      "dense_1 (Dense)              (None, 5)                 645       \n",
      "_________________________________________________________________\n",
      "activation_1 (Activation)    (None, 5)                 0         \n",
      "=================================================================\n",
      "Total params: 20,223,927\n",
      "Trainable params: 223,877\n",
      "Non-trainable params: 20,000,050\n",
      "_________________________________________________________________\n"
     ]
    }
   ],
   "source": [
    "model = Emojify_V2((maxLen,), word_to_vec_map, word_to_index)\n",
    "model.summary()"
   ]
  },
  {
   "cell_type": "code",
   "execution_count": 12,
   "metadata": {},
   "outputs": [],
   "source": [
    "model.compile(loss='categorical_crossentropy', optimizer='adam', metrics=['accuracy'])"
   ]
  },
  {
   "cell_type": "code",
   "execution_count": 13,
   "metadata": {},
   "outputs": [],
   "source": [
    "X_train_indices = sentences_to_indices(X_train, word_to_index, maxLen)\n",
    "Y_train_oh = convert_to_one_hot(Y_train, C = 5)"
   ]
  },
  {
   "cell_type": "code",
   "execution_count": 14,
   "metadata": {},
   "outputs": [
    {
     "name": "stdout",
     "output_type": "stream",
     "text": [
      "WARNING:tensorflow:From /home/mapr/.local/lib/python3.5/site-packages/tensorflow/python/ops/math_ops.py:3066: to_int32 (from tensorflow.python.ops.math_ops) is deprecated and will be removed in a future version.\n",
      "Instructions for updating:\n",
      "Use tf.cast instead.\n",
      "Epoch 1/50\n",
      "132/132 [==============================] - 3s 25ms/step - loss: 1.6065 - acc: 0.1894\n",
      "Epoch 2/50\n",
      "132/132 [==============================] - 0s 3ms/step - loss: 1.5884 - acc: 0.2500\n",
      "Epoch 3/50\n",
      "132/132 [==============================] - 0s 3ms/step - loss: 1.5717 - acc: 0.2727\n",
      "Epoch 4/50\n",
      "132/132 [==============================] - 0s 4ms/step - loss: 1.5520 - acc: 0.3106\n",
      "Epoch 5/50\n",
      "132/132 [==============================] - 1s 4ms/step - loss: 1.5333 - acc: 0.2955\n",
      "Epoch 6/50\n",
      "132/132 [==============================] - 1s 6ms/step - loss: 1.5081 - acc: 0.4091\n",
      "Epoch 7/50\n",
      "132/132 [==============================] - 1s 4ms/step - loss: 1.4433 - acc: 0.6515\n",
      "Epoch 8/50\n",
      "132/132 [==============================] - 0s 3ms/step - loss: 1.3749 - acc: 0.6288\n",
      "Epoch 9/50\n",
      "132/132 [==============================] - 0s 3ms/step - loss: 1.3539 - acc: 0.5758\n",
      "Epoch 10/50\n",
      "132/132 [==============================] - 0s 3ms/step - loss: 1.3379 - acc: 0.6288\n",
      "Epoch 11/50\n",
      "132/132 [==============================] - 0s 2ms/step - loss: 1.3239 - acc: 0.6061\n",
      "Epoch 12/50\n",
      "132/132 [==============================] - 0s 4ms/step - loss: 1.2624 - acc: 0.6970\n",
      "Epoch 13/50\n",
      "132/132 [==============================] - 0s 3ms/step - loss: 1.2250 - acc: 0.7121\n",
      "Epoch 14/50\n",
      "132/132 [==============================] - 0s 3ms/step - loss: 1.1695 - acc: 0.7727\n",
      "Epoch 15/50\n",
      "132/132 [==============================] - 0s 3ms/step - loss: 1.1451 - acc: 0.7955\n",
      "Epoch 16/50\n",
      "132/132 [==============================] - 1s 4ms/step - loss: 1.1365 - acc: 0.7727\n",
      "Epoch 17/50\n",
      "132/132 [==============================] - 0s 4ms/step - loss: 1.1035 - acc: 0.8182\n",
      "Epoch 18/50\n",
      "132/132 [==============================] - 0s 4ms/step - loss: 1.0872 - acc: 0.8333\n",
      "Epoch 19/50\n",
      "132/132 [==============================] - 0s 4ms/step - loss: 1.1352 - acc: 0.7879\n",
      "Epoch 20/50\n",
      "132/132 [==============================] - 1s 4ms/step - loss: 1.0840 - acc: 0.8409\n",
      "Epoch 21/50\n",
      "132/132 [==============================] - 0s 3ms/step - loss: 1.1017 - acc: 0.8030\n",
      "Epoch 22/50\n",
      "132/132 [==============================] - 0s 3ms/step - loss: 1.1877 - acc: 0.7121\n",
      "Epoch 23/50\n",
      "132/132 [==============================] - 0s 3ms/step - loss: 1.0745 - acc: 0.8333\n",
      "Epoch 24/50\n",
      "132/132 [==============================] - 0s 4ms/step - loss: 1.0972 - acc: 0.8106\n",
      "Epoch 25/50\n",
      "132/132 [==============================] - 1s 4ms/step - loss: 1.0802 - acc: 0.8409\n",
      "Epoch 26/50\n",
      "132/132 [==============================] - 0s 3ms/step - loss: 1.0980 - acc: 0.7879\n",
      "Epoch 27/50\n",
      "132/132 [==============================] - 0s 3ms/step - loss: 1.0819 - acc: 0.8409\n",
      "Epoch 28/50\n",
      "132/132 [==============================] - 0s 4ms/step - loss: 1.0310 - acc: 0.8712\n",
      "Epoch 29/50\n",
      "132/132 [==============================] - 0s 3ms/step - loss: 1.0075 - acc: 0.8939\n",
      "Epoch 30/50\n",
      "132/132 [==============================] - 0s 4ms/step - loss: 0.9992 - acc: 0.9091\n",
      "Epoch 31/50\n",
      "132/132 [==============================] - 0s 3ms/step - loss: 1.0044 - acc: 0.8939\n",
      "Epoch 32/50\n",
      "132/132 [==============================] - 0s 4ms/step - loss: 1.0002 - acc: 0.9091\n",
      "Epoch 33/50\n",
      "132/132 [==============================] - 0s 3ms/step - loss: 0.9866 - acc: 0.9242\n",
      "Epoch 34/50\n",
      "132/132 [==============================] - 0s 3ms/step - loss: 1.0008 - acc: 0.9167\n",
      "Epoch 35/50\n",
      "132/132 [==============================] - 0s 3ms/step - loss: 0.9908 - acc: 0.9242\n",
      "Epoch 36/50\n",
      "132/132 [==============================] - 0s 3ms/step - loss: 0.9834 - acc: 0.9318\n",
      "Epoch 37/50\n",
      "132/132 [==============================] - 0s 3ms/step - loss: 0.9829 - acc: 0.9242\n",
      "Epoch 38/50\n",
      "132/132 [==============================] - 0s 4ms/step - loss: 0.9707 - acc: 0.9470\n",
      "Epoch 39/50\n",
      "132/132 [==============================] - 0s 4ms/step - loss: 0.9856 - acc: 0.9167\n",
      "Epoch 40/50\n",
      "132/132 [==============================] - 0s 3ms/step - loss: 0.9686 - acc: 0.9394\n",
      "Epoch 41/50\n",
      "132/132 [==============================] - 0s 3ms/step - loss: 0.9771 - acc: 0.9394\n",
      "Epoch 42/50\n",
      "132/132 [==============================] - 0s 4ms/step - loss: 0.9529 - acc: 0.9545\n",
      "Epoch 43/50\n",
      "132/132 [==============================] - 0s 4ms/step - loss: 0.9701 - acc: 0.9394\n",
      "Epoch 44/50\n",
      "132/132 [==============================] - 0s 3ms/step - loss: 0.9620 - acc: 0.9545\n",
      "Epoch 45/50\n",
      "132/132 [==============================] - 0s 4ms/step - loss: 0.9570 - acc: 0.9545\n",
      "Epoch 46/50\n",
      "132/132 [==============================] - 0s 3ms/step - loss: 1.0236 - acc: 0.8788\n",
      "Epoch 47/50\n",
      "132/132 [==============================] - 0s 2ms/step - loss: 0.9925 - acc: 0.9242\n",
      "Epoch 48/50\n",
      "132/132 [==============================] - 0s 3ms/step - loss: 0.9618 - acc: 0.9545\n",
      "Epoch 49/50\n",
      "132/132 [==============================] - 0s 3ms/step - loss: 0.9684 - acc: 0.9394\n",
      "Epoch 50/50\n",
      "132/132 [==============================] - 0s 3ms/step - loss: 0.9730 - acc: 0.9394\n"
     ]
    },
    {
     "data": {
      "text/plain": [
       "<keras.callbacks.History at 0x7f6c18366438>"
      ]
     },
     "execution_count": 14,
     "metadata": {},
     "output_type": "execute_result"
    }
   ],
   "source": [
    "model.fit(X_train_indices, Y_train_oh, epochs = 50, batch_size = 32, shuffle=True)"
   ]
  },
  {
   "cell_type": "code",
   "execution_count": 15,
   "metadata": {},
   "outputs": [
    {
     "name": "stdout",
     "output_type": "stream",
     "text": [
      "difficult day 😞\n"
     ]
    }
   ],
   "source": [
    "x_test = np.array(['difficult day'])\n",
    "X_test_indices = sentences_to_indices(x_test, word_to_index, maxLen)\n",
    "print(x_test[0] +' '+  label_to_emoji(np.argmax(model.predict(X_test_indices))))"
   ]
  },
  {
   "cell_type": "code",
   "execution_count": 16,
   "metadata": {},
   "outputs": [],
   "source": [
    "#save keras model\n",
    "model.save_weights(\"emojifier_weights.h5\")"
   ]
  },
  {
   "cell_type": "code",
   "execution_count": 17,
   "metadata": {},
   "outputs": [],
   "source": [
    "#save model to json\n",
    "model_json = model.to_json()"
   ]
  },
  {
   "cell_type": "code",
   "execution_count": 18,
   "metadata": {},
   "outputs": [],
   "source": [
    "#write model to file\n",
    "with open(\"emojifier_model.json\",\"w\") as json_file :\n",
    "    json_file.write(model_json)"
   ]
  }
 ],
 "metadata": {
  "kernelspec": {
   "display_name": "Python 3",
   "language": "python",
   "name": "python3"
  },
  "language_info": {
   "codemirror_mode": {
    "name": "ipython",
    "version": 3
   },
   "file_extension": ".py",
   "mimetype": "text/x-python",
   "name": "python",
   "nbconvert_exporter": "python",
   "pygments_lexer": "ipython3",
   "version": "3.5.4"
  }
 },
 "nbformat": 4,
 "nbformat_minor": 2
}
